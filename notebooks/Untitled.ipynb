{
 "cells": [
  {
   "cell_type": "code",
   "execution_count": 1,
   "id": "3952f574-493c-4156-bdb5-48b4d28bd6fc",
   "metadata": {
    "tags": []
   },
   "outputs": [
    {
     "name": "stderr",
     "output_type": "stream",
     "text": [
      "/home/as3ek/.conda/envs/hist/lib/python3.8/site-packages/tqdm/auto.py:22: TqdmWarning: IProgress not found. Please update jupyter and ipywidgets. See https://ipywidgets.readthedocs.io/en/stable/user_install.html\n",
      "  from .autonotebook import tqdm as notebook_tqdm\n"
     ]
    }
   ],
   "source": [
    "import argparse\n",
    "import os\n",
    "import math\n",
    "import random\n",
    "\n",
    "import torch as th\n",
    "import torch.distributed as dist\n",
    "import torchvision as tv\n",
    "import blobfile as bf\n",
    "from PIL import Image\n",
    "import warnings\n",
    "import numpy as np\n",
    "from PIL import Image\n",
    "from IPython.display import display\n",
    "import matplotlib.pyplot as plt\n",
    "\n",
    "warnings.filterwarnings('ignore')\n",
    "class Arguments(object):\n",
    "    def __init__(self, dictionary):\n",
    "        \"\"\"Constructor\"\"\"\n",
    "        for key in dictionary:\n",
    "            setattr(self, key, dictionary[key])\n",
    "            \n",
    "def read_pil(path, d1=False):\n",
    "    with bf.BlobFile(path, \"rb\") as f:\n",
    "        pil_image = Image.open(f)\n",
    "        pil_image.load()\n",
    "        if d1:\n",
    "            pil_image = pil_image.convert(\"L\")\n",
    "        else:\n",
    "            pil_image = pil_image.convert(\"RGB\")\n",
    "    return pil_image"
   ]
  },
  {
   "cell_type": "code",
   "execution_count": 99,
   "id": "b0f55c4d-b817-4902-a556-22fbc17d2dee",
   "metadata": {
    "tags": []
   },
   "outputs": [],
   "source": [
    "real_clz_path = \"/home/as3ek/data/lizard_split_norm_bright3/instances/test2/consep_9__0_0.png\""
   ]
  },
  {
   "cell_type": "code",
   "execution_count": 100,
   "id": "76fa1a6a-08c0-4919-975a-401236e471fe",
   "metadata": {
    "tags": []
   },
   "outputs": [],
   "source": [
    "# real_clz = read_pil(real_clz_path, d1=False)\n",
    "\n",
    "with bf.BlobFile(real_clz_path, \"rb\") as f:\n",
    "    pil_instance = Image.open(f)\n",
    "    pil_instance.load()\n",
    "pil_instance = pil_instance"
   ]
  },
  {
   "cell_type": "code",
   "execution_count": 101,
   "id": "8c2702d7-f08f-4f56-b91a-5f7d621408a4",
   "metadata": {
    "tags": []
   },
   "outputs": [
    {
     "data": {
      "image/png": "[encoded data removed]",
      "text/plain": [
       "<PIL.PngImagePlugin.PngImageFile image mode=I size=128x128>"
      ]
     },
     "execution_count": 101,
     "metadata": {},
     "output_type": "execute_result"
    }
   ],
   "source": [
    "pil_instance"
   ]
  },
  {
   "cell_type": "code",
   "execution_count": 102,
   "id": "a4360be9-9190-45d2-a999-9a3584404a8d",
   "metadata": {
    "tags": []
   },
   "outputs": [
    {
     "data": {
      "text/plain": [
       "array([ 0,  4, 40, 41, 42], dtype=int32)"
      ]
     },
     "execution_count": 102,
     "metadata": {},
     "output_type": "execute_result"
    }
   ],
   "source": [
    "np.unique(np.array(pil_instance))"
   ]
  },
  {
   "cell_type": "code",
   "execution_count": 103,
   "id": "d9d03dcb-492a-419a-a496-205e7e5fabf2",
   "metadata": {
    "tags": []
   },
   "outputs": [],
   "source": [
    "def get_edges(t):\n",
    "    edge = th.ByteTensor(t.size()).zero_()\n",
    "    edge[:, :, :, 1:] = edge[:, :, :, 1:] | (t[:, :, :, 1:] != t[:, :, :, :-1])\n",
    "    edge[:, :, :, :-1] = edge[:, :, :, :-1] | (t[:, :, :, 1:] != t[:, :, :, :-1])\n",
    "    edge[:, :, 1:, :] = edge[:, :, 1:, :] | (t[:, :, 1:, :] != t[:, :, :-1, :])\n",
    "    edge[:, :, :-1, :] = edge[:, :, :-1, :] | (t[:, :, 1:, :] != t[:, :, :-1, :])\n",
    "    return edge.float()"
   ]
  },
  {
   "cell_type": "code",
   "execution_count": 104,
   "id": "bd0dd756-ac9e-4440-8c2c-8a1c7539a72f",
   "metadata": {
    "tags": []
   },
   "outputs": [],
   "source": [
    "ins = th.tensor(np.array(pil_instance)[None, ])"
   ]
  },
  {
   "cell_type": "code",
   "execution_count": 105,
   "id": "cd5d7489-6cc0-43e2-8cd0-8d70bae1fab4",
   "metadata": {
    "tags": []
   },
   "outputs": [],
   "source": [
    "edges = get_edges(ins.unsqueeze(0))"
   ]
  },
  {
   "cell_type": "code",
   "execution_count": 106,
   "id": "d76f3116-2aba-49b9-8714-3eabbd24d391",
   "metadata": {
    "tags": []
   },
   "outputs": [
    {
     "data": {
      "image/png": "[encoded data removed]",
      "text/plain": [
       "<PIL.Image.Image image mode=L size=128x128>"
      ]
     },
     "execution_count": 106,
     "metadata": {},
     "output_type": "execute_result"
    }
   ],
   "source": [
    "Image.fromarray((edges[0][0].numpy() * 255.).astype(np.uint8))"
   ]
  },
  {
   "cell_type": "code",
   "execution_count": 85,
   "id": "33efdf9e-98ec-41df-a39c-c1cf4ab09edb",
   "metadata": {
    "tags": []
   },
   "outputs": [
    {
     "data": {
      "image/png": "[encoded data removed]",
      "text/plain": [
       "<PIL.Image.Image image mode=L size=128x128>"
      ]
     },
     "execution_count": 85,
     "metadata": {},
     "output_type": "execute_result"
    }
   ],
   "source": [
    "image_pil.convert(\"L\")"
   ]
  },
  {
   "cell_type": "code",
   "execution_count": 22,
   "id": "366b4635-7356-46a3-9d59-8da76032ca97",
   "metadata": {
    "tags": []
   },
   "outputs": [],
   "source": [
    "fake_clz_path = \"/scratch/as3ek/github/MaskDiff/saves/lr_2e-05__batch_size_64__image_size_128__num_channels_128__num_res_blocks_3__diffusion_steps_1000__noise_schedule_linear/model310000_samples/classes/synmask/190.png\""
   ]
  },
  {
   "cell_type": "code",
   "execution_count": 27,
   "id": "13f5bd01-800e-4d5f-a9e5-d76eb3f6243f",
   "metadata": {
    "tags": []
   },
   "outputs": [],
   "source": [
    "fake_clz = read_pil(fake_clz_path, d1=False)"
   ]
  },
  {
   "cell_type": "code",
   "execution_count": 28,
   "id": "aa2b3713-7f69-4795-81f2-069f165c638b",
   "metadata": {
    "tags": []
   },
   "outputs": [
    {
     "data": {
      "image/png": "[encoded data removed]",
      "text/plain": [
       "<PIL.Image.Image image mode=RGB size=128x128>"
      ]
     },
     "execution_count": 28,
     "metadata": {},
     "output_type": "execute_result"
    }
   ],
   "source": [
    "fake_clz"
   ]
  },
  {
   "cell_type": "code",
   "execution_count": null,
   "id": "119aab82-e057-43a8-94d3-05467ec526e9",
   "metadata": {},
   "outputs": [],
   "source": []
  },
  {
   "cell_type": "code",
   "execution_count": null,
   "id": "214474d0-a090-44bc-bbc3-adf92ecf360f",
   "metadata": {},
   "outputs": [],
   "source": []
  }
 ],
 "metadata": {
  "kernelspec": {
   "display_name": "hist",
   "language": "python",
   "name": "hist"
  },
  "language_info": {
   "codemirror_mode": {
    "name": "ipython",
    "version": 3
   },
   "file_extension": ".py",
   "mimetype": "text/x-python",
   "name": "python",
   "nbconvert_exporter": "python",
   "pygments_lexer": "ipython3",
   "version": "3.8.16"
  }
 },
 "nbformat": 4,
 "nbformat_minor": 5
}
