{
 "cells": [
  {
   "cell_type": "code",
   "execution_count": 1,
   "metadata": {},
   "outputs": [
    {
     "name": "stderr",
     "output_type": "stream",
     "text": [
      "/home/as3ek/.conda/envs/hist/lib/python3.8/site-packages/tqdm/auto.py:22: TqdmWarning: IProgress not found. Please update jupyter and ipywidgets. See https://ipywidgets.readthedocs.io/en/stable/user_install.html\n",
      "  from .autonotebook import tqdm as notebook_tqdm\n"
     ]
    }
   ],
   "source": [
    "import torch\n",
    "import torch as th\n",
    "import numpy as np\n",
    "import os\n",
    "from PIL import Image\n",
    "from tqdm import tqdm\n",
    "import blobfile as bf"
   ]
  },
  {
   "cell_type": "code",
   "execution_count": 9,
   "metadata": {},
   "outputs": [],
   "source": [
    "# Source paths\n",
    "fold = 3\n",
    "src_images = f\"/scratch/as3ek/datasets/pannuke/npy_files/images/fold{fold}/images.npy\"\n",
    "src_masks = f\"/scratch/as3ek/datasets/pannuke/npy_files/masks/fold{fold}/masks.npy\"\n",
    "\n",
    "# Target paths\n",
    "images_path = \"/scratch/as3ek/datasets/pannuke/images/\"\n",
    "classes_path = \"/scratch/as3ek/datasets/pannuke/classes/\"\n",
    "instances_path = \"/scratch/as3ek/datasets/pannuke/instances/\"\n",
    "\n",
    "# Create splits\n",
    "test_frac = 0.01\n",
    "splits = [\"train\", \"test\"]\n",
    "for splt in splits:\n",
    "    os.makedirs(os.path.join(images_path, splt), exist_ok=True)\n",
    "    os.makedirs(os.path.join(classes_path, splt), exist_ok=True)\n",
    "    os.makedirs(os.path.join(instances_path, splt), exist_ok=True)"
   ]
  },
  {
   "cell_type": "code",
   "execution_count": 10,
   "metadata": {},
   "outputs": [],
   "source": [
    "# Load numpy arrays\n",
    "images = np.load(src_images)\n",
    "masks = np.load(src_masks)"
   ]
  },
  {
   "cell_type": "code",
   "execution_count": 12,
   "metadata": {},
   "outputs": [
    {
     "name": "stderr",
     "output_type": "stream",
     "text": [
      "100%|██████████| 2722/2722 [06:23<00:00,  7.10it/s]  "
     ]
    },
    {
     "name": "stdout",
     "output_type": "stream",
     "text": [
      "Done!\n"
     ]
    },
    {
     "name": "stderr",
     "output_type": "stream",
     "text": [
      "\n"
     ]
    }
   ],
   "source": [
    "# Number of images\n",
    "num_images = images.shape[0]\n",
    "num_test_images = int(num_images * test_frac)\n",
    "num_train_images = num_images - num_test_images\n",
    "\n",
    "for i in tqdm(range(images.shape[0])):\n",
    "    # Get PIL image\n",
    "    image = np.uint8(images[i])\n",
    "    image_pil = Image.fromarray(image)\n",
    "    \n",
    "    # Get instance mask\n",
    "    instance = np.sum(masks[i][:,:,:-1], axis=2)\n",
    "    instance_pil = Image.fromarray(np.uint8(instance))\n",
    "    \n",
    "    # Get class mask\n",
    "    mask = masks[i].copy()\n",
    "    mask[:,:,0][mask[:,:,0] != 0] = 1\n",
    "    mask[:,:,1][mask[:,:,1] != 0] = 2\n",
    "    mask[:,:,2][mask[:,:,2] != 0] = 3\n",
    "    mask[:,:,3][mask[:,:,3] != 0] = 4\n",
    "    mask[:,:,4][mask[:,:,4] != 0] = 5\n",
    "    \n",
    "    clz = np.sum(mask[:,:,:-1], axis=2)\n",
    "    # Set overlap to background\n",
    "    clz[clz > 5] = 0\n",
    "    \n",
    "    # Get PIL image\n",
    "    clz_pil = Image.fromarray(np.uint8(clz))\n",
    "    \n",
    "    # Get split\n",
    "    if i < num_train_images:\n",
    "        split = splits[0]\n",
    "    else:\n",
    "        split = splits[1]\n",
    "\n",
    "    # Format filename\n",
    "    image_name = \"image_{0:04d}_{1:09d}.png\".format(fold, i)\n",
    "    instance_name = \"instance_{0:04d}_{1:09d}.png\".format(fold, i)\n",
    "    class_name = \"class_{0:04d}_{1:09d}.png\".format(fold, i)\n",
    "    \n",
    "    # Save files\n",
    "    image_pil.save(os.path.join(images_path, split, image_name))\n",
    "    instance_pil.save(os.path.join(instances_path, split, instance_name))\n",
    "    clz_pil.save(os.path.join(classes_path, split, class_name))\n",
    "\n",
    "print(\"Done!\")"
   ]
  },
  {
   "cell_type": "code",
   "execution_count": null,
   "metadata": {},
   "outputs": [],
   "source": []
  }
 ],
 "metadata": {
  "kernelspec": {
   "display_name": "Python [conda env:.conda-hist]",
   "language": "python",
   "name": "conda-env-.conda-hist-py"
  },
  "language_info": {
   "codemirror_mode": {
    "name": "ipython",
    "version": 3
   },
   "file_extension": ".py",
   "mimetype": "text/x-python",
   "name": "python",
   "nbconvert_exporter": "python",
   "pygments_lexer": "ipython3",
   "version": "3.8.16"
  },
  "vscode": {
   "interpreter": {
    "hash": "0b388664539d715c768350db8f775c3bb37f2c3dc24cacc3db160aa98dbbe54f"
   }
  }
 },
 "nbformat": 4,
 "nbformat_minor": 4
}
